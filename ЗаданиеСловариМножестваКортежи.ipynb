{
  "nbformat": 4,
  "nbformat_minor": 0,
  "metadata": {
    "colab": {
      "provenance": [],
      "authorship_tag": "ABX9TyNOpjxk8L2CQqJ201l+5tWN",
      "include_colab_link": true
    },
    "kernelspec": {
      "name": "python3",
      "display_name": "Python 3"
    },
    "language_info": {
      "name": "python"
    }
  },
  "cells": [
    {
      "cell_type": "markdown",
      "metadata": {
        "id": "view-in-github",
        "colab_type": "text"
      },
      "source": [
        "<a href=\"https://colab.research.google.com/github/Svetlana20005/Python/blob/main/%D0%97%D0%B0%D0%B4%D0%B0%D0%BD%D0%B8%D0%B5%D0%A1%D0%BB%D0%BE%D0%B2%D0%B0%D1%80%D0%B8%D0%9C%D0%BD%D0%BE%D0%B6%D0%B5%D1%81%D1%82%D0%B2%D0%B0%D0%9A%D0%BE%D1%80%D1%82%D0%B5%D0%B6%D0%B8.ipynb\" target=\"_parent\"><img src=\"https://colab.research.google.com/assets/colab-badge.svg\" alt=\"Open In Colab\"/></a>"
      ]
    },
    {
      "cell_type": "markdown",
      "source": [
        "**Dictionary**"
      ],
      "metadata": {
        "id": "uFIWkaK3qV7r"
      }
    },
    {
      "cell_type": "markdown",
      "source": [
        "1. Подсчет частоты слов: Напишите функцию, которая принимает строку и возвращает словарь, где ключи — это слова, а значения — их частота в строке."
      ],
      "metadata": {
        "id": "Ngz9qzYirOcN"
      }
    },
    {
      "cell_type": "code",
      "execution_count": null,
      "metadata": {
        "colab": {
          "base_uri": "https://localhost:8080/"
        },
        "id": "HeOsVc4zqU3b",
        "outputId": "01235252-d743-4546-987f-1394737805fa"
      },
      "outputs": [
        {
          "output_type": "stream",
          "name": "stdout",
          "text": [
            "fox wolf sea wolf air fox sea wolf sea air\n",
            "{'fox': 2, 'wolf': 3, 'sea': 3, 'air': 2}\n"
          ]
        }
      ],
      "source": [
        "def frequency_of_words(text):\n",
        "  words = text.split()\n",
        "  frequency = {}\n",
        "  for w in words:\n",
        "    if w:\n",
        "      if w in frequency:\n",
        "        frequency[w] += 1\n",
        "      else:\n",
        "        frequency[w] = 1\n",
        "  return frequency\n",
        "text = str(input())\n",
        "result = frequency_of_words(text)\n",
        "print(result)"
      ]
    },
    {
      "cell_type": "markdown",
      "source": [
        "2. Слияние словарей: Напишите функцию, которая принимает два словаря и возвращает новый словарь, содержащий все ключи из обоих словарей. Если ключи совпадают, значения должны быть суммированы."
      ],
      "metadata": {
        "id": "OSeWZ4EVNAQD"
      }
    },
    {
      "cell_type": "code",
      "source": [
        "def merge_dictionaries(dict1, dict2):\n",
        "  merged_dict = dict1.copy()\n",
        "  for key, value in dict2.items():\n",
        "      if key in merged_dict:\n",
        "          merged_dict[key] += value\n",
        "      else:\n",
        "          merged_dict[key] = value\n",
        "  return merged_dict\n",
        "\n",
        "dict_a = {'a': 1, 'w': 2, 'f': 1}\n",
        "dict_b = {'w': 1, 'f': 3, 'e': 2}\n",
        "\n",
        "result = merge_dictionaries(dict_a, dict_b)\n",
        "print(result)\n"
      ],
      "metadata": {
        "colab": {
          "base_uri": "https://localhost:8080/"
        },
        "id": "J034Lv96NWya",
        "outputId": "de2a783d-2b3f-4ea8-9256-715d2afa4b7e"
      },
      "execution_count": null,
      "outputs": [
        {
          "output_type": "stream",
          "name": "stdout",
          "text": [
            "{'a': 1, 'w': 3, 'f': 4, 'e': 2}\n"
          ]
        }
      ]
    },
    {
      "cell_type": "markdown",
      "source": [
        "3. Максимальное значение: Напишите функцию, которая находит ключ с максимальным значением в словаре."
      ],
      "metadata": {
        "id": "TiWw-p9hO6FL"
      }
    },
    {
      "cell_type": "code",
      "source": [
        "def max_value(dict):\n",
        "  m_v = -1000\n",
        "  m_k = 'a'\n",
        "  for key, value in dict.items():\n",
        "    if value > m_v:\n",
        "      m_v = value\n",
        "      m_k = key\n",
        "  return m_k\n",
        "dict = {'a': 6, 'd': 5, 's': 9, 'k': 3}\n",
        "result = max_value(dict)\n",
        "print(f'Ключ с максимальным значением: {result}')"
      ],
      "metadata": {
        "colab": {
          "base_uri": "https://localhost:8080/"
        },
        "id": "pUWNOKtxP36A",
        "outputId": "52646d39-583b-49c6-f269-094516db2da0"
      },
      "execution_count": null,
      "outputs": [
        {
          "output_type": "stream",
          "name": "stdout",
          "text": [
            "Ключ с максимальным значением: s\n"
          ]
        }
      ]
    },
    {
      "cell_type": "markdown",
      "source": [
        "4. Фильтрация по значению: Напишите функцию, которая принимает словарь и пороговое значение, и возвращает новый словарь, содержащий только те пары ключ-значение, где значение больше порогового."
      ],
      "metadata": {
        "id": "pBVDoQdVSSe4"
      }
    },
    {
      "cell_type": "code",
      "source": [
        "def filtering(dict, our_val):\n",
        "  new_dict = {}\n",
        "  for key in dict:\n",
        "    if dict[key] > our_val:\n",
        "      new_dict[key] = dict[key]\n",
        "  return new_dict\n",
        "dict = {'q': 6, 'y': 14, 'u': 3, 'a': 12, 'x': 18, 'r': 9}\n",
        "value = 10\n",
        "result = filtering(dict, value)\n",
        "print(result)"
      ],
      "metadata": {
        "colab": {
          "base_uri": "https://localhost:8080/"
        },
        "id": "xUVDawf-SV9H",
        "outputId": "be4fbe87-892f-4a2f-c424-2798e75e666f"
      },
      "execution_count": null,
      "outputs": [
        {
          "output_type": "stream",
          "name": "stdout",
          "text": [
            "{'y': 14, 'a': 12, 'x': 18}\n"
          ]
        }
      ]
    },
    {
      "cell_type": "markdown",
      "source": [
        "5. Удаление ключей: Напишите функцию, которая принимает словарь и список ключей, и удаляет из словаря все указанные ключи."
      ],
      "metadata": {
        "id": "0jtK0G8iueyr"
      }
    },
    {
      "cell_type": "code",
      "source": [
        "def delete_keys(dict, list_keys):\n",
        "  for key in list_keys:\n",
        "    dict.pop(key, None)\n",
        "  return dict\n",
        "dict = {'a': 9, 'o': 7, 'd': 5, 'b': 8, 'e': 6}\n",
        "list_keys = ['a', 'b']\n",
        "new_dict = delete_keys(dict, list_keys)\n",
        "print(new_dict)"
      ],
      "metadata": {
        "colab": {
          "base_uri": "https://localhost:8080/"
        },
        "id": "DD0usbdiufl-",
        "outputId": "8bbd7e35-edee-470e-ceea-c00910469b3b"
      },
      "execution_count": null,
      "outputs": [
        {
          "output_type": "stream",
          "name": "stdout",
          "text": [
            "{'o': 7, 'd': 5, 'e': 6}\n"
          ]
        }
      ]
    },
    {
      "cell_type": "markdown",
      "source": [
        "6. Группировка по длине ключей: Напишите функцию, которая группирует ключи словаря по их длине и возвращает словарь, где ключи — это длины, а значения — списки ключей соответствующей длины."
      ],
      "metadata": {
        "id": "W5nQL5WUD0BP"
      }
    },
    {
      "cell_type": "code",
      "source": [
        "def group(dict):\n",
        "  group_dict = {}\n",
        "  for key in dict.keys():\n",
        "    if len(key) in group_dict:\n",
        "      group_dict[len(key)].append(key)\n",
        "    else:\n",
        "      group_dict[len(key)] = [key]\n",
        "  return group_dict\n",
        "dict = {'a': 10, 'ff': 12, 'h': 13, 'kkk': 11, 'q': 15, 'ddd': 14}\n",
        "result = group(dict)\n",
        "print(result)"
      ],
      "metadata": {
        "colab": {
          "base_uri": "https://localhost:8080/"
        },
        "id": "MY9TiBFpERYd",
        "outputId": "f670873b-4de5-4b7a-8d21-5275b0494eba"
      },
      "execution_count": null,
      "outputs": [
        {
          "output_type": "stream",
          "name": "stdout",
          "text": [
            "{1: ['a', 'h', 'q'], 2: ['ff'], 3: ['kkk', 'ddd']}\n"
          ]
        }
      ]
    },
    {
      "cell_type": "markdown",
      "source": [
        "7. Поиск ключей по значению: Напишите функцию, которая принимает словарь и значение, и возвращает список всех ключей, связанных с этим значением."
      ],
      "metadata": {
        "id": "FOW8QDLvHaUC"
      }
    },
    {
      "cell_type": "code",
      "source": [
        "def poisk(dict, our_value):\n",
        "  list = []\n",
        "  for key, value in dict.items():\n",
        "    if value == our_value:\n",
        "      list.append(key)\n",
        "  return list\n",
        "dict = {'a': 13, 'b': 12, 'c': 13, 'd': 13, 'k': 17}\n",
        "result = poisk(dict, 13)\n",
        "print(result)"
      ],
      "metadata": {
        "colab": {
          "base_uri": "https://localhost:8080/"
        },
        "id": "8T3DjMVFHvw4",
        "outputId": "a96de378-c77d-41a2-e9aa-8b344491e05f"
      },
      "execution_count": null,
      "outputs": [
        {
          "output_type": "stream",
          "name": "stdout",
          "text": [
            "['a', 'c', 'd']\n"
          ]
        }
      ]
    },
    {
      "cell_type": "markdown",
      "source": [
        "8. Уникальные значения: Напишите функцию, которая возвращает множество уникальных значений из словаря."
      ],
      "metadata": {
        "id": "MoLcOygMQD2U"
      }
    },
    {
      "cell_type": "code",
      "source": [
        "def unique(dict):\n",
        "  list = []\n",
        "  for value in dict.values():\n",
        "    list.append(value)\n",
        "  return set(list)\n",
        "dict = {'w': 7, 'f': 1, 'u': 7, 'q': 6, 'i': 9, 't': 1}\n",
        "result = unique(dict)\n",
        "print(result)"
      ],
      "metadata": {
        "id": "P-_Z9-ZJQYvO",
        "colab": {
          "base_uri": "https://localhost:8080/"
        },
        "outputId": "4bd6c139-f2a0-4795-d75a-874edd109864"
      },
      "execution_count": null,
      "outputs": [
        {
          "output_type": "stream",
          "name": "stdout",
          "text": [
            "{1, 9, 6, 7}\n"
          ]
        }
      ]
    },
    {
      "cell_type": "markdown",
      "source": [
        "9. Ключи с четными значениями: Напишите функцию, которая возвращает список ключей, связанных с четными значениями."
      ],
      "metadata": {
        "id": "aYE8dTvOjPza"
      }
    },
    {
      "cell_type": "code",
      "source": [
        "def chet_val(dict):\n",
        "  list = []\n",
        "  for key, value in dict.items():\n",
        "    if value % 2 == 0:\n",
        "      list.append(key)\n",
        "  return list\n",
        "dict = {'a' : 9, 'l': 8, 'r': 2, 'y': 1, 's': 7, 'w': 4, 'z': 3, 'q': 10}\n",
        "result = chet_val(dict)\n",
        "print(result)"
      ],
      "metadata": {
        "colab": {
          "base_uri": "https://localhost:8080/"
        },
        "id": "S8ZYKc_yjrUw",
        "outputId": "fc2ba9b4-a2e4-4f7a-8c14-58b546454ef6"
      },
      "execution_count": null,
      "outputs": [
        {
          "output_type": "stream",
          "name": "stdout",
          "text": [
            "['l', 'r', 'w', 'q']\n"
          ]
        }
      ]
    },
    {
      "cell_type": "markdown",
      "source": [
        "10. Пересечение словарей: Напишите функцию, которая принимает два словаря и возвращает новый словарь, содержащий только те пары ключ-значение, которые присутствуют в обоих словарях."
      ],
      "metadata": {
        "id": "OocmB4LxkuUK"
      }
    },
    {
      "cell_type": "code",
      "source": [
        "def cross(dict1, dict2):\n",
        "  new_dict = {}\n",
        "  for key in dict1:\n",
        "    if key in dict2 and dict1[key] == dict2[key]:\n",
        "      new_dict[key] = dict1[key]\n",
        "  return new_dict\n",
        "dict1 = {'b': 12, 'c': 13, 'd': 18, 'k': 17}\n",
        "dict2 = {'a': 13, 'b': 12, 'c': 13, 'd': 13}\n",
        "result = cross(dict1, dict2)\n",
        "print(result)"
      ],
      "metadata": {
        "colab": {
          "base_uri": "https://localhost:8080/"
        },
        "id": "_to9UTLnk22X",
        "outputId": "95a3e27d-906f-40c7-c2d1-c660f9623ccb"
      },
      "execution_count": null,
      "outputs": [
        {
          "output_type": "stream",
          "name": "stdout",
          "text": [
            "{'b': 12, 'c': 13}\n"
          ]
        }
      ]
    },
    {
      "cell_type": "markdown",
      "source": [
        "**Set**"
      ],
      "metadata": {
        "id": "9G_aQcpqp8dm"
      }
    },
    {
      "cell_type": "markdown",
      "source": [
        "1. Создание множества из списка: Напишите функцию, которая принимает список и возвращает множество, содержащее уникальные элементы списка."
      ],
      "metadata": {
        "id": "hEsOy9frp_sm"
      }
    },
    {
      "cell_type": "code",
      "source": [
        "def set_(list):\n",
        "  return set(list)\n",
        "list = [7, 'l', 3, 'ar', 7, '6k', 5, 'ar', '3w', 3]\n",
        "result = set_(list)\n",
        "print(result)"
      ],
      "metadata": {
        "colab": {
          "base_uri": "https://localhost:8080/"
        },
        "id": "LDOUfV2gqnq-",
        "outputId": "3232ba72-c614-443c-eacc-25e63f70b1f1"
      },
      "execution_count": null,
      "outputs": [
        {
          "output_type": "stream",
          "name": "stdout",
          "text": [
            "{3, 5, 'ar', 7, 'l', '3w', '6k'}\n"
          ]
        }
      ]
    },
    {
      "cell_type": "markdown",
      "source": [
        "2. Объединение множеств: Напишите функцию, которая принимает два множества и возвращает их объединение."
      ],
      "metadata": {
        "id": "mzIoXLmRrJOw"
      }
    },
    {
      "cell_type": "code",
      "source": [
        "def unification(set1, set2):\n",
        "  for i in set2:\n",
        "    set1.add(i)\n",
        "  return set1\n",
        "set1 = {1, 3 , 5, 8, 9}\n",
        "set2 = {2, 3, 6, 8, 10}\n",
        "result = unification(set1, set2)\n",
        "print(result)"
      ],
      "metadata": {
        "colab": {
          "base_uri": "https://localhost:8080/"
        },
        "id": "AXbi0mlPrYot",
        "outputId": "950af5b4-74bd-4f53-d588-c650c9695563"
      },
      "execution_count": null,
      "outputs": [
        {
          "output_type": "stream",
          "name": "stdout",
          "text": [
            "{1, 2, 3, 5, 6, 8, 9, 10}\n"
          ]
        }
      ]
    },
    {
      "cell_type": "markdown",
      "source": [
        "3. Симметрическая разность: Напишите функцию, которая принимает два множества и возвращает их симметрическую разность."
      ],
      "metadata": {
        "id": "Kny8GnKTsJ_b"
      }
    },
    {
      "cell_type": "code",
      "source": [
        "def simm_razn(set1, set2):\n",
        "  new_set = set()\n",
        "  for i in set1:\n",
        "    if i not in set2:\n",
        "      new_set.add(i)\n",
        "  for i in set2:\n",
        "    if i not in set1:\n",
        "      new_set.add(i)\n",
        "  return new_set\n",
        "set1 = {1, 3, 5, 6, 8, 9}\n",
        "set2 = {2, 3, 4, 6, 8, 10}\n",
        "result = simm_razn(set1, set2)\n",
        "print(result)"
      ],
      "metadata": {
        "colab": {
          "base_uri": "https://localhost:8080/"
        },
        "id": "k3kYZn66sPTF",
        "outputId": "a3d88a18-c0c8-426b-fa7f-6bda50c29e1b"
      },
      "execution_count": null,
      "outputs": [
        {
          "output_type": "stream",
          "name": "stdout",
          "text": [
            "{1, 2, 4, 5, 9, 10}\n"
          ]
        }
      ]
    },
    {
      "cell_type": "markdown",
      "source": [
        "4. Минимальный элемент: Напишите функцию, которая находит минимальный элемент в множестве."
      ],
      "metadata": {
        "id": "rO3yFtGXttzc"
      }
    },
    {
      "cell_type": "code",
      "source": [
        "def min_set(set):\n",
        "  min_res = 10000\n",
        "  for i in set:\n",
        "    if i < min_res:\n",
        "      min_res = i\n",
        "  return min_res\n",
        "set = {4, 7, -3, 1, 0, -7, 8, -2}\n",
        "print(min_set(set))"
      ],
      "metadata": {
        "colab": {
          "base_uri": "https://localhost:8080/"
        },
        "id": "8X3hujcxUhFg",
        "outputId": "ce4b07be-9926-43f1-9eab-900db4bd2049"
      },
      "execution_count": null,
      "outputs": [
        {
          "output_type": "stream",
          "name": "stdout",
          "text": [
            "-7\n"
          ]
        }
      ]
    },
    {
      "cell_type": "markdown",
      "source": [
        "5. Фильтрация по условию: Напишите функцию, которая фильтрует множество, оставляя только те элементы, которые удовлетворяют заданному условию (например, больше 10)."
      ],
      "metadata": {
        "id": "txZyHTd2VU1W"
      }
    },
    {
      "cell_type": "code",
      "source": [
        "def filt(set, usl, value):\n",
        "  if usl == '>':\n",
        "    return {i for i in set if i > value}\n",
        "  else:\n",
        "    return {i for i in set if i < value}\n",
        "our_set = {3, 19, 8, 12, 6, 11, 15, 7, 5, 13}\n",
        "set1 = filt(our_set, '>', 10)\n",
        "set2 = filt(our_set, '<', 10)\n",
        "print(set1)\n",
        "print(set2)"
      ],
      "metadata": {
        "id": "BEv-6QfwYTHY",
        "colab": {
          "base_uri": "https://localhost:8080/"
        },
        "outputId": "cc81e36b-8df3-4b40-c284-3c404498c5fb"
      },
      "execution_count": null,
      "outputs": [
        {
          "output_type": "stream",
          "name": "stdout",
          "text": [
            "{11, 12, 13, 15, 19}\n",
            "{3, 5, 6, 7, 8}\n"
          ]
        }
      ]
    },
    {
      "cell_type": "markdown",
      "source": [
        "6. Генерация множества: Напишите функцию, которая генерирует множество из n случайных чисел в заданном диапазоне."
      ],
      "metadata": {
        "id": "DFj7iw7_kKnc"
      }
    },
    {
      "cell_type": "code",
      "source": [
        "import random\n",
        "def generation(n, a, b):\n",
        "  res = set()\n",
        "  while len(res) < n:\n",
        "    res.add(random.randint(a, b))\n",
        "  return res\n",
        "random_set= generation(10, 5, 25)\n",
        "print(random_set)"
      ],
      "metadata": {
        "colab": {
          "base_uri": "https://localhost:8080/"
        },
        "id": "LcfjXUgOlV8N",
        "outputId": "c4b65a0c-26df-4edc-f3db-a1ce3d160db2"
      },
      "execution_count": null,
      "outputs": [
        {
          "output_type": "stream",
          "name": "stdout",
          "text": [
            "{10, 11, 12, 13, 17, 19, 20, 21, 23, 25}\n"
          ]
        }
      ]
    },
    {
      "cell_type": "markdown",
      "source": [
        "7. Максимальный элемент: Напишите функцию, которая находит максимальный элемент в множестве."
      ],
      "metadata": {
        "id": "Y6AbHs7Un3TB"
      }
    },
    {
      "cell_type": "code",
      "source": [
        "def max_set(set):\n",
        "  max_res = -10000\n",
        "  for i in set:\n",
        "    if i > max_res:\n",
        "      max_res = i\n",
        "  return max_res\n",
        "set = {4, 7, 3, 1, 0, 11, 7, 8, -2, 9}\n",
        "print(max_set(set))"
      ],
      "metadata": {
        "colab": {
          "base_uri": "https://localhost:8080/"
        },
        "id": "7Nr_lPlXotQZ",
        "outputId": "b5946491-f181-4864-8bcd-1fd2028c7b61"
      },
      "execution_count": null,
      "outputs": [
        {
          "output_type": "stream",
          "name": "stdout",
          "text": [
            "11\n"
          ]
        }
      ]
    },
    {
      "cell_type": "markdown",
      "source": [
        "8. Проверка подмножества: Напишите функцию, которая проверяет, является ли одно множество подмножеством другого."
      ],
      "metadata": {
        "id": "Fqi4NuyLpekp"
      }
    },
    {
      "cell_type": "code",
      "source": [
        "def podmn(set1, set2):\n",
        "  for i in set1:\n",
        "    if i not in set2:\n",
        "      return False\n",
        "  return True\n",
        "our_set = {2, 6, 7, 4, 8, 10, 3, 8}\n",
        "our_podmn_set = {4, 7, 10}\n",
        "print(podmn(our_podmn_set, our_set))"
      ],
      "metadata": {
        "colab": {
          "base_uri": "https://localhost:8080/"
        },
        "id": "IPETytA9roGp",
        "outputId": "024eff28-7473-490b-a711-7aca0c76abe4"
      },
      "execution_count": null,
      "outputs": [
        {
          "output_type": "stream",
          "name": "stdout",
          "text": [
            "True\n"
          ]
        }
      ]
    },
    {
      "cell_type": "markdown",
      "source": [
        "9. Удаление элементов: Напишите функцию, которая удаляет из множества все элементы, присутствующие в списке."
      ],
      "metadata": {
        "id": "2_I5eoTXs7T7"
      }
    },
    {
      "cell_type": "code",
      "source": [
        "def del_elem(input_set, input_list):\n",
        "  for i in input_list:\n",
        "    if i in input_set:\n",
        "      input_set.remove(i)\n",
        "  return input_set\n",
        "our_set = {8, 9, 3, 1, 0, 11, 2, 5}\n",
        "our_list = [5, 3, 0, 11]\n",
        "print(del_elem(our_set, our_list))"
      ],
      "metadata": {
        "colab": {
          "base_uri": "https://localhost:8080/"
        },
        "id": "Wb7ttCZlsX4o",
        "outputId": "81bbbb56-8916-456d-d842-841e4b91937f"
      },
      "execution_count": null,
      "outputs": [
        {
          "output_type": "stream",
          "name": "stdout",
          "text": [
            "{1, 2, 8, 9}\n"
          ]
        }
      ]
    },
    {
      "cell_type": "markdown",
      "source": [
        "10. Проверка на пустоту: Напишите функцию, которая проверяет, является ли множество пустым."
      ],
      "metadata": {
        "id": "CqKEZn0GuDrQ"
      }
    },
    {
      "cell_type": "code",
      "source": [
        "def empty(input_set):\n",
        "  return len(input_set) == 0\n",
        "set1 = {1, 2, 3}\n",
        "set2 = {}\n",
        "print(set1, empty(set1))\n",
        "print(set2, empty(set2))"
      ],
      "metadata": {
        "colab": {
          "base_uri": "https://localhost:8080/"
        },
        "id": "urcF809vvx1M",
        "outputId": "6886dbf3-f4df-42bb-de77-a1a544c40b6c"
      },
      "execution_count": null,
      "outputs": [
        {
          "output_type": "stream",
          "name": "stdout",
          "text": [
            "{1, 2, 3} False\n",
            "{} True\n"
          ]
        }
      ]
    },
    {
      "cell_type": "markdown",
      "source": [
        "**Tuple**"
      ],
      "metadata": {
        "id": "qGKUFS-6wzr4"
      }
    },
    {
      "cell_type": "markdown",
      "source": [
        "1. Создание кортежа из списка: Напишите функцию, которая принимает список и возвращает кортеж, содержащий те же элементы."
      ],
      "metadata": {
        "id": "nubF9KFEw6Da"
      }
    },
    {
      "cell_type": "code",
      "source": [
        "def new_tuple(list):\n",
        "  return tuple(list)\n",
        "my_list = [9, 0, 4, 'a', 'f', 2]\n",
        "print(new_tuple(my_list))"
      ],
      "metadata": {
        "colab": {
          "base_uri": "https://localhost:8080/"
        },
        "id": "UjkfT5jBw-sx",
        "outputId": "62de1ece-78ef-47e1-9339-70e04ca4da2e"
      },
      "execution_count": null,
      "outputs": [
        {
          "output_type": "stream",
          "name": "stdout",
          "text": [
            "(9, 0, 4, 'a', 'f', 2)\n"
          ]
        }
      ]
    },
    {
      "cell_type": "markdown",
      "source": [
        "2. Индекс первого вхождения: Напишите функцию, которая находит индекс первого вхождения заданного элемента в кортеже."
      ],
      "metadata": {
        "id": "1RuvZ_6Pxp_v"
      }
    },
    {
      "cell_type": "code",
      "source": [
        "def find_first(tup, elem):\n",
        "  return tup.index(elem)\n",
        "my_tuple = (12, 5, 7, 8, 91, 54, 23, 1)\n",
        "print(find_first(my_tuple, 23))"
      ],
      "metadata": {
        "id": "bwA1p13KxumS",
        "colab": {
          "base_uri": "https://localhost:8080/"
        },
        "outputId": "2667717c-9ff1-4511-bc1a-823433f471bf"
      },
      "execution_count": null,
      "outputs": [
        {
          "output_type": "stream",
          "name": "stdout",
          "text": [
            "6\n"
          ]
        }
      ]
    },
    {
      "cell_type": "markdown",
      "source": [
        "3. Количество вхождений элемента: Напишите функцию, которая подсчитывает, сколько раз заданный элемент встречается в кортеже.\n",
        "\n"
      ],
      "metadata": {
        "id": "_MBw3kF4ml6E"
      }
    },
    {
      "cell_type": "code",
      "source": [
        "def count_element(tup, elem):\n",
        "  count = 0\n",
        "  for item in tup:\n",
        "        if item == elem:\n",
        "            count += 1\n",
        "  return count\n",
        "my_tuple = (12, 5, 45, 3, 12, 7, 12, 34, 59, 9, 9)\n",
        "print(count_element(my_tuple, 12))"
      ],
      "metadata": {
        "colab": {
          "base_uri": "https://localhost:8080/"
        },
        "id": "FL5MRgLpmvpx",
        "outputId": "7c45a771-fd8c-4ff6-b295-03942fcd9bef"
      },
      "execution_count": null,
      "outputs": [
        {
          "output_type": "stream",
          "name": "stdout",
          "text": [
            "3\n"
          ]
        }
      ]
    },
    {
      "cell_type": "markdown",
      "source": [
        "4. Сортировка кортежа: Напишите функцию, которая возвращает отсортированный список на основе элементов кортежа."
      ],
      "metadata": {
        "id": "7XajKfdpnbVA"
      }
    },
    {
      "cell_type": "code",
      "source": [
        "def sort_tuple(tup, reverse=False):\n",
        "  return sorted(tup)\n",
        "my_tuple = (12, 4, 6, 8, 9, 3, 2, 1, 0, 4, 7, 8, 11)\n",
        "print(sort_tuple(my_tuple))"
      ],
      "metadata": {
        "colab": {
          "base_uri": "https://localhost:8080/"
        },
        "id": "2PlvCPs8n7PF",
        "outputId": "b516605d-c8ab-467d-f3c7-f8b88db4c1a3"
      },
      "execution_count": null,
      "outputs": [
        {
          "output_type": "stream",
          "name": "stdout",
          "text": [
            "[0, 1, 2, 3, 4, 4, 6, 7, 8, 8, 9, 11, 12]\n"
          ]
        }
      ]
    },
    {
      "cell_type": "markdown",
      "source": [
        "5. Срез кортежа: Напишите функцию, которая возвращает срез кортежа от заданного начального индекса до конечного."
      ],
      "metadata": {
        "id": "AHcsrlcooSJa"
      }
    },
    {
      "cell_type": "code",
      "source": [
        "def get_slice(tup, start, stop):\n",
        "  return tup[start:stop]\n",
        "my_tuple = (12, 4, 6, 8, 9, 3, 2, 1, 0, 4, 7, 8, 11)\n",
        "print(get_slice(my_tuple, 3, 7))"
      ],
      "metadata": {
        "colab": {
          "base_uri": "https://localhost:8080/"
        },
        "id": "vcVPZ-oSoe5J",
        "outputId": "529639b1-d5e5-4ce6-80f7-d1326f48e59b"
      },
      "execution_count": null,
      "outputs": [
        {
          "output_type": "stream",
          "name": "stdout",
          "text": [
            "(8, 9, 3, 2)\n"
          ]
        }
      ]
    },
    {
      "cell_type": "markdown",
      "source": [
        "6. Уникальные элементы: Напишите функцию, которая возвращает множество уникальных элементов кортежа."
      ],
      "metadata": {
        "id": "WZZsXYiRoy-g"
      }
    },
    {
      "cell_type": "code",
      "source": [
        "def get_unique_elements(tup):\n",
        "  return set(tup)\n",
        "my_tuple = (23, 65, 76, 45, 23, 45, 76, 81, 98, 71, 67, 45, 12, 23)\n",
        "print(get_unique_elements(my_tuple))"
      ],
      "metadata": {
        "colab": {
          "base_uri": "https://localhost:8080/"
        },
        "id": "EEW9yGono3tG",
        "outputId": "2c71870f-8f63-45cc-9aaa-5f975556b620"
      },
      "execution_count": null,
      "outputs": [
        {
          "output_type": "stream",
          "name": "stdout",
          "text": [
            "{65, 98, 67, 71, 76, 45, 12, 81, 23}\n"
          ]
        }
      ]
    },
    {
      "cell_type": "markdown",
      "source": [
        "7. Сумма элементов: Напишите функцию, которая вычисляет сумму всех числовых элементов в кортеже."
      ],
      "metadata": {
        "id": "0VRqs8tCpTH0"
      }
    },
    {
      "cell_type": "code",
      "source": [
        "def sum_elements(tup):\n",
        "  sum = 0\n",
        "  for i in tup:\n",
        "    sum += i\n",
        "  return sum\n",
        "my_tuple = (12, 34, 5, 6, 3, 1, 7, 0, 9)\n",
        "print(sum_elements(my_tuple))"
      ],
      "metadata": {
        "colab": {
          "base_uri": "https://localhost:8080/"
        },
        "id": "MNra2sKSpYEy",
        "outputId": "ebb8ff2c-d8af-4bd7-88b2-2332226dc7a3"
      },
      "execution_count": null,
      "outputs": [
        {
          "output_type": "stream",
          "name": "stdout",
          "text": [
            "77\n"
          ]
        }
      ]
    },
    {
      "cell_type": "markdown",
      "source": [
        "8. Произведение элементов: Напишите функцию, которая вычисляет произведение всех числовых элементов в кортеже."
      ],
      "metadata": {
        "id": "58tfToVpzLcB"
      }
    },
    {
      "cell_type": "code",
      "source": [
        "def mult_elements(tup):\n",
        "  mult = 1\n",
        "  for i in tup:\n",
        "    mult = mult * i\n",
        "  return mult\n",
        "my_tuple = (11, 4, 2, 6, 6, 1, 7, 8)\n",
        "print(mult_elements(my_tuple))"
      ],
      "metadata": {
        "colab": {
          "base_uri": "https://localhost:8080/"
        },
        "id": "e7h6yPoWzQol",
        "outputId": "6e5f5fe4-ce02-4804-ac4d-1009edd4403f"
      },
      "execution_count": 2,
      "outputs": [
        {
          "output_type": "stream",
          "name": "stdout",
          "text": [
            "177408\n"
          ]
        }
      ]
    },
    {
      "cell_type": "markdown",
      "source": [
        "9. Вложенные кортежи: Напишите функцию, которая создает вложенный кортеж, где первый уровень — это буквы алфавита, а второй уровень — числа от 1 до 5."
      ],
      "metadata": {
        "id": "37akcZhLzm5f"
      }
    },
    {
      "cell_type": "code",
      "source": [
        "import string\n",
        "\n",
        "def create_nested_tuple():\n",
        "  letters = string.ascii_lowercase\n",
        "  nested_tuple = tuple((letter, tuple(range(1, 6))) for letter in letters)\n",
        "  return nested_tuple\n",
        "result = create_nested_tuple()\n",
        "print(result)"
      ],
      "metadata": {
        "colab": {
          "base_uri": "https://localhost:8080/"
        },
        "id": "bHYcP7m_0OMq",
        "outputId": "27836280-88c6-4c35-f33e-a2db5456aeea"
      },
      "execution_count": 3,
      "outputs": [
        {
          "output_type": "stream",
          "name": "stdout",
          "text": [
            "(('a', (1, 2, 3, 4, 5)), ('b', (1, 2, 3, 4, 5)), ('c', (1, 2, 3, 4, 5)), ('d', (1, 2, 3, 4, 5)), ('e', (1, 2, 3, 4, 5)), ('f', (1, 2, 3, 4, 5)), ('g', (1, 2, 3, 4, 5)), ('h', (1, 2, 3, 4, 5)), ('i', (1, 2, 3, 4, 5)), ('j', (1, 2, 3, 4, 5)), ('k', (1, 2, 3, 4, 5)), ('l', (1, 2, 3, 4, 5)), ('m', (1, 2, 3, 4, 5)), ('n', (1, 2, 3, 4, 5)), ('o', (1, 2, 3, 4, 5)), ('p', (1, 2, 3, 4, 5)), ('q', (1, 2, 3, 4, 5)), ('r', (1, 2, 3, 4, 5)), ('s', (1, 2, 3, 4, 5)), ('t', (1, 2, 3, 4, 5)), ('u', (1, 2, 3, 4, 5)), ('v', (1, 2, 3, 4, 5)), ('w', (1, 2, 3, 4, 5)), ('x', (1, 2, 3, 4, 5)), ('y', (1, 2, 3, 4, 5)), ('z', (1, 2, 3, 4, 5)))\n"
          ]
        }
      ]
    },
    {
      "cell_type": "markdown",
      "source": [
        "10. Кортеж с четными числами: Напишите функцию, которая создает кортеж, содержащий только четные числа из заданного диапазона."
      ],
      "metadata": {
        "id": "HRX666Hi0vtn"
      }
    },
    {
      "cell_type": "code",
      "source": [
        "def create_chet_numbers_tuple(start, end):\n",
        "  if start % 2 != 0:\n",
        "      start += 1\n",
        "  chet_numbers = tuple(range(start, end, 2))\n",
        "  return chet_numbers\n",
        "\n",
        "result = create_chet_numbers_tuple(5, 27)\n",
        "print(result)"
      ],
      "metadata": {
        "colab": {
          "base_uri": "https://localhost:8080/"
        },
        "id": "1M3ikrGX1ALx",
        "outputId": "ff8581e8-3456-4023-afe9-b2e8da86cafe"
      },
      "execution_count": 5,
      "outputs": [
        {
          "output_type": "stream",
          "name": "stdout",
          "text": [
            "(6, 8, 10, 12, 14, 16, 18, 20, 22, 24, 26)\n"
          ]
        }
      ]
    }
  ]
}