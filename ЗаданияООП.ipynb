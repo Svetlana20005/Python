{
  "nbformat": 4,
  "nbformat_minor": 0,
  "metadata": {
    "colab": {
      "provenance": [],
      "authorship_tag": "ABX9TyOGYUnWxTzApSzdmEJ2QSf9",
      "include_colab_link": true
    },
    "kernelspec": {
      "name": "python3",
      "display_name": "Python 3"
    },
    "language_info": {
      "name": "python"
    }
  },
  "cells": [
    {
      "cell_type": "markdown",
      "metadata": {
        "id": "view-in-github",
        "colab_type": "text"
      },
      "source": [
        "<a href=\"https://colab.research.google.com/github/Svetlana20005/Python/blob/main/%D0%97%D0%B0%D0%B4%D0%B0%D0%BD%D0%B8%D1%8F%D0%9E%D0%9E%D0%9F.ipynb\" target=\"_parent\"><img src=\"https://colab.research.google.com/assets/colab-badge.svg\" alt=\"Open In Colab\"/></a>"
      ]
    },
    {
      "cell_type": "markdown",
      "source": [
        "Вариант 7"
      ],
      "metadata": {
        "id": "4la_6NCgBX7Q"
      }
    },
    {
      "cell_type": "markdown",
      "source": [
        "Классы и объекты: Определите абстрактный класс Shape с абстрактным методом get_area(). Создайте подклассы Circle и Rectangle, которые реализуют метод get_area(), вычисляющий площадь фигуры."
      ],
      "metadata": {
        "id": "WC5z27HuCChv"
      }
    },
    {
      "cell_type": "code",
      "execution_count": null,
      "metadata": {
        "colab": {
          "base_uri": "https://localhost:8080/"
        },
        "id": "zlaU0kySBSGo",
        "outputId": "fef382f6-18ff-4427-cc35-9028bd0ad924"
      },
      "outputs": [
        {
          "output_type": "stream",
          "name": "stdout",
          "text": [
            "Введите радиус круга: 6\n",
            "Введите ширину прямоугольника: 3\n",
            "Введите длину прямоугольника: 7\n",
            "Площадь круга: 113.10\n",
            "Площадь прямоугольника: 21.00\n"
          ]
        }
      ],
      "source": [
        "from abc import ABC, abstractmethod\n",
        "import math\n",
        "\n",
        "# Абстрактный класс Shape\n",
        "class Shape(ABC):\n",
        "  @abstractmethod\n",
        "  def get_area(self):\n",
        "    pass\n",
        "\n",
        "# Подкласс Circle\n",
        "class Circle(Shape):\n",
        "  def __init__(self, radius):\n",
        "    self.radius = radius\n",
        "\n",
        "  def get_area(self):\n",
        "      return math.pi * (self.radius ** 2)\n",
        "\n",
        "# Подкласс Rectangle\n",
        "class Rectangle(Shape):\n",
        "  def __init__(self, width, height):\n",
        "      self.width = width\n",
        "      self.height = height\n",
        "\n",
        "  def get_area(self):\n",
        "      return self.width * self.height\n",
        "\n",
        "# Пример использования\n",
        "if __name__ == \"__main__\":\n",
        "  r = int(input('Введите радиус круга: '))\n",
        "  w = int(input('Введите ширину прямоугольника: '))\n",
        "  h = int(input('Введите длину прямоугольника: '))\n",
        "  circle = Circle(r)\n",
        "  rectangle = Rectangle(w, h)\n",
        "\n",
        "  print(f\"Площадь круга: {circle.get_area():.2f}\")\n",
        "  print(f\"Площадь прямоугольника: {rectangle.get_area():.2f}\")\n"
      ]
    },
    {
      "cell_type": "markdown",
      "source": [
        "Наследование: Определите класс Rectangle, который наследуется от класса Shape. Класс Rectangle должен реализовать метод getArea() для вычисления площади прямоугольника."
      ],
      "metadata": {
        "id": "ZzlDPGfOELAn"
      }
    },
    {
      "cell_type": "code",
      "source": [
        "from abc import ABC, abstractmethod\n",
        "import math\n",
        "\n",
        "# Класс Shape\n",
        "class Shape(ABC):\n",
        "  @abstractmethod\n",
        "  def get_area(self):\n",
        "    pass\n",
        "\n",
        "# класс Rectangle\n",
        "class Rectangle(Shape):\n",
        "  def __init__(self, width, height):\n",
        "      self.width = width\n",
        "      self.height = height\n",
        "\n",
        "  def get_area(self):\n",
        "      return self.width * self.height\n",
        "\n",
        "# Пример использования\n",
        "if __name__ == \"__main__\":\n",
        "  w = int(input('Введите ширину прямоугольника: '))\n",
        "  h = int(input('Введите длину прямоугольника: '))\n",
        "  rectangle = Rectangle(w, h)\n",
        "\n",
        "  print(f\"Площадь прямоугольника: {rectangle.get_area():.2f}\")"
      ],
      "metadata": {
        "colab": {
          "base_uri": "https://localhost:8080/"
        },
        "id": "JoMjgUq2EVQt",
        "outputId": "788fa825-715d-467f-d31a-260d0b52f5f0"
      },
      "execution_count": null,
      "outputs": [
        {
          "output_type": "stream",
          "name": "stdout",
          "text": [
            "Введите ширину прямоугольника: 5\n",
            "Введите длину прямоугольника: 9\n",
            "Площадь прямоугольника: 45.00\n"
          ]
        }
      ]
    },
    {
      "cell_type": "markdown",
      "source": [
        "Инкапсуляция: Создать класс Rectangle, в котором поля width, height и color будут приватными. Реализовать методы для доступа и изменения этих полей, контролируя, чтобы ширина и высота были положительными."
      ],
      "metadata": {
        "id": "RPFDF9LmE3K6"
      }
    },
    {
      "cell_type": "code",
      "source": [
        "class Rectangle:\n",
        "  def __init__(self, width, height, color):\n",
        "      self.set_width(width)\n",
        "      self.set_height(height)\n",
        "      self.set_color(color)\n",
        "\n",
        "  # Геттер для ширины\n",
        "  def get_width(self):\n",
        "      return self.width\n",
        "\n",
        "  # Сеттер для ширины\n",
        "  def set_width(self, width):\n",
        "    if width > 0:\n",
        "        self.width = width\n",
        "    else:\n",
        "        raise ValueError(\"Ширина должна быть положительной\")\n",
        "\n",
        "  # Геттер для высоты\n",
        "  def get_height(self):\n",
        "      return self.height\n",
        "\n",
        "  # Сеттер для высоты\n",
        "  def set_height(self, height):\n",
        "      if height > 0:\n",
        "          self.height = height\n",
        "      else:\n",
        "          raise ValueError(\"Высота должна быть положительной\")\n",
        "\n",
        "  # Геттер для цвета\n",
        "  def get_color(self):\n",
        "      return self.color\n",
        "\n",
        "  # Сеттер для цвета\n",
        "  def set_color(self, color):\n",
        "      self.color = color\n",
        "\n",
        "  # Метод для вычисления площади\n",
        "  def get_area(self):\n",
        "      return self.width * self.height\n",
        "\n",
        "\n",
        "# Пример использования\n",
        "if __name__ == \"__main__\":\n",
        "  try:\n",
        "      rect = Rectangle(5, 10, \"red\")\n",
        "      print(f\"Ширина: {rect.get_width()}\")\n",
        "      print(f\"Высота: {rect.get_height()}\")\n",
        "      print(f\"Цвет: {rect.get_color()}\")\n",
        "      print(f\"Площадь: {rect.get_area()}\")\n",
        "\n",
        "      # Изменяем цвет\n",
        "      rect.set_color(\"blue\")\n",
        "      print(f\"Новый цвет: {rect.get_color()}\")\n",
        "\n",
        "      # Пробуем установить отрицательную ширину\n",
        "      rect.set_width(-3)\n",
        "  except ValueError as e:\n",
        "      print(e)\n"
      ],
      "metadata": {
        "colab": {
          "base_uri": "https://localhost:8080/"
        },
        "id": "gOcY9qe6n819",
        "outputId": "c7d0495d-d93f-43ca-d2a3-d7ae232c0322"
      },
      "execution_count": null,
      "outputs": [
        {
          "output_type": "stream",
          "name": "stdout",
          "text": [
            "Ширина: 5\n",
            "Высота: 10\n",
            "Цвет: red\n",
            "Площадь: 50\n",
            "Новый цвет: blue\n",
            "Ширина должна быть положительной\n"
          ]
        }
      ]
    },
    {
      "cell_type": "markdown",
      "source": [
        "Композиция: Дом и комната. Разработайте класс `Дом`, который содержит список комнат. В классе `Дом` реализуйте метод для добавления комнат с указанием их типа, например, \"спальня\" или \"кухня\". Класс `Комната` должен иметь поле `тип комнаты` и метод для возвращения его описания. Комната не может существовать отдельно от дома."
      ],
      "metadata": {
        "id": "sT90JvwNo460"
      }
    },
    {
      "cell_type": "code",
      "source": [
        "class Home:\n",
        "  def __init__(self):\n",
        "    self.rooms = []\n",
        "  def add_room(self, type_room):\n",
        "    new_room = Room(type_room)\n",
        "    self.rooms.append(new_room)\n",
        "  def print_home(self):\n",
        "    print('Дом: ')\n",
        "    for room in self.rooms:\n",
        "      room.print_type()\n",
        "class Room:\n",
        "  def __init__(self, type):\n",
        "    self.type = type\n",
        "  def print_type(self):\n",
        "    print(self.type)\n",
        "home = Home()\n",
        "home.add_room('Гостиная')\n",
        "home.add_room('Спальня')\n",
        "home.add_room('Кухня')\n",
        "home.add_room('Ванная')\n",
        "home.print_home()"
      ],
      "metadata": {
        "colab": {
          "base_uri": "https://localhost:8080/"
        },
        "id": "aDhgj7w3pVgN",
        "outputId": "e3025092-6a84-4d6a-9048-12bd30510eb5"
      },
      "execution_count": null,
      "outputs": [
        {
          "output_type": "stream",
          "name": "stdout",
          "text": [
            "Дом: \n",
            "Гостиная\n",
            "Спальня\n",
            "Кухня\n",
            "Ванная\n"
          ]
        }
      ]
    },
    {
      "cell_type": "markdown",
      "source": [
        " Агрегация: Курс и студент. Постройте класс `Курс`, который содержит студентов, посещающих этот курс. У класса `Студент` есть поля `имя` и `возраст`. Студенты могут существовать вне курса."
      ],
      "metadata": {
        "id": "RmX2kA3uwM1y"
      }
    },
    {
      "cell_type": "code",
      "source": [
        "class Course:\n",
        "  def __init__(self):\n",
        "    self.studens = []\n",
        "  def add_student(self, student):\n",
        "    self.studens.append(student)\n",
        "  def print_course(self):\n",
        "    print('Курс ')\n",
        "    for st in self.studens:\n",
        "      st.print_info()\n",
        "\n",
        "class Student:\n",
        "  def __init__(self, name, age):\n",
        "    self.name = name\n",
        "    self.age = age\n",
        "  def get_name(self):\n",
        "    return self.name\n",
        "  def get_age(self):\n",
        "    return self.age\n",
        "  def print_info(self):\n",
        "    print(f'Имя: {self.name}, Возраст: {self.age}')\n",
        "student1 = Student('Светлана', 20)\n",
        "student2 = Student('Алия', 19)\n",
        "student3 = Student('Алсу', 20)\n",
        "course = Course()\n",
        "course.add_student(student1)\n",
        "course.add_student(student2)\n",
        "course.add_student(student3)\n",
        "course.print_course()"
      ],
      "metadata": {
        "colab": {
          "base_uri": "https://localhost:8080/"
        },
        "id": "14sQ0Bllwsqa",
        "outputId": "f3b52bee-9ead-4f63-b74b-3cb832d7497a"
      },
      "execution_count": null,
      "outputs": [
        {
          "output_type": "stream",
          "name": "stdout",
          "text": [
            "Курс \n",
            "Имя: Светлана, Возраст: 20\n",
            "Имя: Алия, Возраст: 19\n",
            "Имя: Алсу, Возраст: 20\n"
          ]
        }
      ]
    },
    {
      "cell_type": "markdown",
      "source": [
        " Абстрактные классы: Определить абстрактный класс Transport с абстрактным методом getFuelEfficiency(). Реализовать подклассы Car и Motorcycle, которые реализуют метод getFuelEfficiency()."
      ],
      "metadata": {
        "id": "fDCnn3H10PKH"
      }
    },
    {
      "cell_type": "code",
      "source": [
        "from abc import ABC, abstractmethod\n",
        "\n",
        "# Абстрактный класс Transport\n",
        "class Transport(ABC):\n",
        "  @abstractmethod\n",
        "  def getFuelEfficiency(self):\n",
        "      pass\n",
        "\n",
        "# Подкласс Car\n",
        "class Car(Transport):\n",
        "  def __init__(self, fuel_consumption):\n",
        "      self.fuel_consumption = fuel_consumption\n",
        "\n",
        "  def getFuelEfficiency(self):\n",
        "      return 100 / self.fuel_consumption\n",
        "\n",
        "# Подкласс Motorcycle\n",
        "class Motorcycle(Transport):\n",
        "  def __init__(self, fuel_consumption):\n",
        "      self.fuel_consumption = fuel_consumption\n",
        "\n",
        "  def getFuelEfficiency(self):\n",
        "      return 100 / self.fuel_consumption\n",
        "\n",
        "# Пример использования\n",
        "if __name__ == \"__main__\":\n",
        "  my_car = Car(fuel_consumption=8)\n",
        "  my_motorcycle = Motorcycle(fuel_consumption=3)\n",
        "\n",
        "  print(f\"Эффективность автомобиля: {my_car.getFuelEfficiency():.2f} км/л\")\n",
        "  print(f\"Эффективность мотоцикла: {my_motorcycle.getFuelEfficiency():.2f} км/л\")\n"
      ],
      "metadata": {
        "id": "nIHLMueF0lJl",
        "colab": {
          "base_uri": "https://localhost:8080/"
        },
        "outputId": "9c29cdf1-7003-419b-902e-ac6a1f467cd9"
      },
      "execution_count": 1,
      "outputs": [
        {
          "output_type": "stream",
          "name": "stdout",
          "text": [
            "Эффективность автомобиля: 12.50 км/л\n",
            "Эффективность мотоцикла: 33.33 км/л\n"
          ]
        }
      ]
    },
    {
      "cell_type": "markdown",
      "source": [
        "Интерфейсы: Создать интерфейс IShape, который содержит метод getArea(). Создать абстрактный класс Shape и конкретные реализации Circle и Rectangle, которые реализуют интерфейс IShape."
      ],
      "metadata": {
        "id": "e6naSWEU061w"
      }
    },
    {
      "cell_type": "code",
      "source": [
        "from abc import ABC, abstractmethod\n",
        "import math\n",
        "\n",
        "# Интерфейс IShape\n",
        "class IShape(ABC):\n",
        "  @abstractmethod\n",
        "  def get_area(self):\n",
        "      pass\n",
        "\n",
        "# Абстрактный класс Shape\n",
        "class Shape(IShape):\n",
        "  pass\n",
        "\n",
        "# Класс Circle\n",
        "class Circle(Shape):\n",
        "  def __init__(self, radius):\n",
        "      self.radius = radius\n",
        "\n",
        "  def get_area(self):\n",
        "      return math.pi * (self.radius ** 2)\n",
        "\n",
        "# Класс Rectangle\n",
        "class Rectangle(Shape):\n",
        "  def __init__(self, width, height):\n",
        "      self.width = width\n",
        "      self.height = height\n",
        "\n",
        "  def get_area(self):\n",
        "      return self.width * self.height\n",
        "\n",
        "# Пример использования\n",
        "if __name__ == \"__main__\":\n",
        "  r = int(input('Введите радиус круга: '))\n",
        "  w = int(input('Введите ширину прямоугольника: '))\n",
        "  h = int(input('Введите длину прямоугольника: '))\n",
        "  circle = Circle(r)\n",
        "  rectangle = Rectangle(w, h)\n",
        "\n",
        "  print(f\"Площадь круга: {circle.get_area():.2f}\")\n",
        "  print(f\"Площадь прямоугольника: {rectangle.get_area():.2f}\")\n"
      ],
      "metadata": {
        "id": "Vhj2RcjP1W4v",
        "colab": {
          "base_uri": "https://localhost:8080/"
        },
        "outputId": "66175d13-b708-45c3-be35-ec113e56252b"
      },
      "execution_count": 5,
      "outputs": [
        {
          "output_type": "stream",
          "name": "stdout",
          "text": [
            "Введите радиус круга: 4\n",
            "Введите ширину прямоугольника: 5\n",
            "Введите длину прямоугольника: 8\n",
            "Площадь круга: 50.27\n",
            "Площадь прямоугольника: 40.00\n"
          ]
        }
      ]
    },
    {
      "cell_type": "markdown",
      "source": [
        "Полиморфизм: Определите метод drive() в классе Car, который управляет движением автомобиля. Создайте подклассы ElectricCar и GasolineCar, которые будут переопределять этот метод для управления различными типами автомобилей."
      ],
      "metadata": {
        "id": "H5S94RGw1pI0"
      }
    },
    {
      "cell_type": "code",
      "source": [
        "class Car:\n",
        "  def __init__(self, brand, model):\n",
        "      self.brand = brand\n",
        "      self.model = model\n",
        "\n",
        "  def drive(self):\n",
        "      return f\"{self.brand} {self.model} движется.\"\n",
        "\n",
        "class ElectricCar(Car):\n",
        "  def __init__(self, brand, model, battery_capacity):\n",
        "      super().__init__(brand, model)\n",
        "      self.battery_capacity = battery_capacity\n",
        "\n",
        "  def drive(self):\n",
        "      return f\"{self.brand} {self.model} работает на электричестве и движется с использованием {self.battery_capacity} кВтч батареи.\"\n",
        "\n",
        "class GasolineCar(Car):\n",
        "  def __init__(self, brand, model, fuel_tank_capacity):\n",
        "      super().__init__(brand, model)\n",
        "      self.fuel_tank_capacity = fuel_tank_capacity\n",
        "\n",
        "  def drive(self):\n",
        "      return f\"{self.brand} {self.model} работает на бензине и движется с использованием {self.fuel_tank_capacity} литров топлива.\"\n",
        "\n",
        "if __name__ == \"__main__\":\n",
        "  tesla = ElectricCar(brand=\"Tesla\", model=\"Model S\", battery_capacity=75)\n",
        "  toyota = GasolineCar(brand=\"Toyota\", model=\"Camry\", fuel_tank_capacity=60)\n",
        "\n",
        "  print(tesla.drive())\n",
        "  print(toyota.drive())\n"
      ],
      "metadata": {
        "colab": {
          "base_uri": "https://localhost:8080/"
        },
        "id": "srJFXQt_GcTM",
        "outputId": "37cc4303-f4c9-4a84-9119-0f153470003a"
      },
      "execution_count": 3,
      "outputs": [
        {
          "output_type": "stream",
          "name": "stdout",
          "text": [
            "Tesla Model S работает на электричестве и движется с использованием 75 кВтч батареи.\n",
            "Toyota Camry работает на бензине и движется с использованием 60 литров топлива.\n"
          ]
        }
      ]
    }
  ]
}