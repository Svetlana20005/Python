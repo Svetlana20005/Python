{
  "nbformat": 4,
  "nbformat_minor": 0,
  "metadata": {
    "colab": {
      "provenance": [],
      "authorship_tag": "ABX9TyOHRplnkHZJzATFPJOcgLtx",
      "include_colab_link": true
    },
    "kernelspec": {
      "name": "python3",
      "display_name": "Python 3"
    },
    "language_info": {
      "name": "python"
    }
  },
  "cells": [
    {
      "cell_type": "markdown",
      "metadata": {
        "id": "view-in-github",
        "colab_type": "text"
      },
      "source": [
        "<a href=\"https://colab.research.google.com/github/Svetlana20005/Python/blob/main/%D0%97%D0%B0%D0%B4%D0%B0%D0%BD%D0%B8%D1%8F%D0%9E%D1%81%D0%BD%D0%BE%D0%B2%D1%8BPython.ipynb\" target=\"_parent\"><img src=\"https://colab.research.google.com/assets/colab-badge.svg\" alt=\"Open In Colab\"/></a>"
      ]
    },
    {
      "cell_type": "markdown",
      "source": [
        "Вариант 5"
      ],
      "metadata": {
        "id": "KDUS5Jy6kwYG"
      }
    },
    {
      "cell_type": "markdown",
      "source": [
        "Целые числа"
      ],
      "metadata": {
        "id": "UcIUYt4Rpdz5"
      }
    },
    {
      "cell_type": "markdown",
      "source": [
        "![image.png](data:image/png;base64,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)"
      ],
      "metadata": {
        "id": "qOQxY0skk2Q-"
      }
    },
    {
      "cell_type": "code",
      "source": [
        "x = float(input('Enter x = '))\n",
        "y = x - (x**3)/3 + (x**5)/5\n",
        "print('y =  ', y)"
      ],
      "metadata": {
        "colab": {
          "base_uri": "https://localhost:8080/"
        },
        "id": "ei4tJUJKkyzs",
        "outputId": "7460882d-ec58-48fa-95ae-c1a789e663db"
      },
      "execution_count": null,
      "outputs": [
        {
          "output_type": "stream",
          "name": "stdout",
          "text": [
            "Enter x = 2\n",
            "y =   5.733333333333334\n"
          ]
        }
      ]
    },
    {
      "cell_type": "markdown",
      "source": [
        "![image.png](data:image/png;base64,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)"
      ],
      "metadata": {
        "id": "2l9PfOXQlH8i"
      }
    },
    {
      "cell_type": "code",
      "source": [
        "from math import tan, e\n",
        "x = float(input('Enter x = '))\n",
        "y = float(input('Enter y = '))\n",
        "z = float(input('Enter z = '))\n",
        "w = (3 + e**(y - 1))/(1 + x**2*abs(y - tan(z)))\n",
        "print('w =  ', w)"
      ],
      "metadata": {
        "colab": {
          "base_uri": "https://localhost:8080/"
        },
        "id": "gwrcgNz2lLov",
        "outputId": "01c93259-56d2-4c60-c1d2-ff114a0aa0ee"
      },
      "execution_count": null,
      "outputs": [
        {
          "output_type": "stream",
          "name": "stdout",
          "text": [
            "Enter x = 2\n",
            "Enter y = 2\n",
            "Enter z = 2\n",
            "w =   0.3223354245261413\n"
          ]
        }
      ]
    },
    {
      "cell_type": "markdown",
      "source": [
        "3)Даны два числа. Найти среднее арифметическое кубов этих чисел и среднее геометрическое модулей этих чисел."
      ],
      "metadata": {
        "id": "JL3LU5Zplcyz"
      }
    },
    {
      "cell_type": "code",
      "source": [
        "import math\n",
        "x = float(input('Enter x = '))\n",
        "y = float(input('Enter y = '))\n",
        "rez1 = (x**3 + y**3)/2\n",
        "rez2 = math.sqrt(abs(x) + abs(y))\n",
        "print(rez1)\n",
        "print(rez2)"
      ],
      "metadata": {
        "id": "yfG4OEH8losu"
      },
      "execution_count": null,
      "outputs": []
    },
    {
      "cell_type": "markdown",
      "source": [
        "4)Дано двузначное число. Вывести число, полученное при перестановке цифр исходного числа."
      ],
      "metadata": {
        "id": "yDBWwarvlv5z"
      }
    },
    {
      "cell_type": "code",
      "source": [
        "x = int(input('Enter x = '))\n",
        "x_new = (x%10)*10 + (x//10)\n",
        "print(x_new)"
      ],
      "metadata": {
        "colab": {
          "base_uri": "https://localhost:8080/"
        },
        "id": "rng-3fc0lzbg",
        "outputId": "30eec8c0-fff8-434c-c1d2-7a8b01fff429"
      },
      "execution_count": null,
      "outputs": [
        {
          "output_type": "stream",
          "name": "stdout",
          "text": [
            "Enter x = 12\n",
            "21\n"
          ]
        }
      ]
    },
    {
      "cell_type": "markdown",
      "source": [
        "5)Даны координаты двух различных полей шахматной доски x1, y1, x2, y2 (целые числа, лежащие в диапазоне 1–8). Проверить истинность высказывания: «Ладья за один ход может перейти с одного поля на другое»."
      ],
      "metadata": {
        "id": "mDxge54Fman1"
      }
    },
    {
      "cell_type": "code",
      "source": [
        "x1 = int(input('Enter x1 = '))\n",
        "y1 = int(input('Enter y1 = '))\n",
        "x2 = int(input('Enter x2 = '))\n",
        "y2 = int(input('Enter y2 = '))\n",
        "print(x1 == x2 or y1 == y2)"
      ],
      "metadata": {
        "colab": {
          "base_uri": "https://localhost:8080/"
        },
        "id": "wS3Nwgosmh-6",
        "outputId": "3801e983-1975-4eb9-9827-47198a5a93b0"
      },
      "execution_count": null,
      "outputs": [
        {
          "output_type": "stream",
          "name": "stdout",
          "text": [
            "Enter x1 = 2\n",
            "Enter y1 = 3\n",
            "Enter x2 = 3\n",
            "Enter y2 = 7\n",
            "False\n"
          ]
        }
      ]
    },
    {
      "cell_type": "markdown",
      "source": [
        "Оператор if"
      ],
      "metadata": {
        "id": "2nDfnloboD_L"
      }
    },
    {
      "cell_type": "markdown",
      "source": [
        "![image.png](data:image/png;base64,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)"
      ],
      "metadata": {
        "id": "MApjmEj0puHE"
      }
    },
    {
      "cell_type": "code",
      "source": [
        "x = float(input('Enter x = '))\n",
        "if x <= 7:\n",
        "  f = -3*x + 9\n",
        "else:\n",
        "  f = 1/(x-7)\n",
        "print(f)"
      ],
      "metadata": {
        "colab": {
          "base_uri": "https://localhost:8080/"
        },
        "id": "BoPZ-qxNqWH8",
        "outputId": "eecf1f05-1f10-4fec-bb0a-beb578a826ed"
      },
      "execution_count": null,
      "outputs": [
        {
          "output_type": "stream",
          "name": "stdout",
          "text": [
            "Enter x = 9\n",
            "0.5\n"
          ]
        }
      ]
    },
    {
      "cell_type": "markdown",
      "source": [
        "2)На плоскости XOY задана своими координатами точка А. Указать, где она расположена: на какой оси или в каком координатном угле."
      ],
      "metadata": {
        "id": "AETHq3GHqsdi"
      }
    },
    {
      "cell_type": "code",
      "source": [
        "x = int(input('Enter x = '))\n",
        "y = int(input('Enter y = '))\n",
        "if x == 0 and y != 0:\n",
        "  print('Ось OY')\n",
        "elif y == 0 and x != 0:\n",
        "  print('Ось OX')\n",
        "elif x == 0 and y == 0:\n",
        "  print('Начало координат')\n",
        "else:\n",
        "  print('Координатная четверть: ')\n",
        "  if y > 0:\n",
        "    if x > 0:\n",
        "      print(1)\n",
        "    else:\n",
        "      print(2)\n",
        "  else:\n",
        "    if x < 0:\n",
        "      print(3)\n",
        "    else:\n",
        "      print(4)"
      ],
      "metadata": {
        "colab": {
          "base_uri": "https://localhost:8080/"
        },
        "id": "cD63GYyXqwTt",
        "outputId": "ecb8911a-a0e9-44e4-b1c4-f7479d4dbca0"
      },
      "execution_count": null,
      "outputs": [
        {
          "output_type": "stream",
          "name": "stdout",
          "text": [
            "Enter x = 4\n",
            "Enter y = -3\n",
            "Координатная четверть: \n",
            "4\n"
          ]
        }
      ]
    },
    {
      "cell_type": "markdown",
      "source": [
        "3)Даны действительные числа a, b, c. Удвоить эти числа, если a>=b>=c и заменить их абсолютными значениями, если это не так."
      ],
      "metadata": {
        "id": "h9JklzkftqXq"
      }
    },
    {
      "cell_type": "code",
      "source": [
        "a = int(input('Enter a = '))\n",
        "b = int(input('Enter b = '))\n",
        "c = int(input('Enter c = '))\n",
        "if a >= b and b >= c:\n",
        "  a *= a\n",
        "  b *= b\n",
        "  c *= c\n",
        "else:\n",
        "  a = abs(a)\n",
        "  b = abs(b)\n",
        "  c = abs(c)\n",
        "print(f'a = {a}\\nb = {b}\\nc = {c}')"
      ],
      "metadata": {
        "colab": {
          "base_uri": "https://localhost:8080/"
        },
        "id": "aCO3AYdhtxT6",
        "outputId": "d90ec9b9-f10d-4e40-a641-d2dea7a563dd"
      },
      "execution_count": null,
      "outputs": [
        {
          "output_type": "stream",
          "name": "stdout",
          "text": [
            "Enter a = 6\n",
            "Enter b = 5\n",
            "Enter c = 2\n",
            "a = 36\n",
            "b = 25\n",
            "c = 4\n"
          ]
        }
      ]
    },
    {
      "cell_type": "markdown",
      "source": [
        "4) Даны радиус круга и сторона квадрата. У какой фигуры площадь больше?"
      ],
      "metadata": {
        "id": "HSnHbZiJvU1C"
      }
    },
    {
      "cell_type": "code",
      "source": [
        "r = float(input('Enter r = '))\n",
        "a = float(input('Enter a = '))\n",
        "pi = 3.14\n",
        "if a*a > pi*r*r:\n",
        "  print('Площадь квадрата больше')\n",
        "else:\n",
        "  print('Площадь круга больше')"
      ],
      "metadata": {
        "colab": {
          "base_uri": "https://localhost:8080/"
        },
        "id": "faV5AAdMvXtN",
        "outputId": "226818b8-ae59-4191-999d-6a4f3557d115"
      },
      "execution_count": null,
      "outputs": [
        {
          "output_type": "stream",
          "name": "stdout",
          "text": [
            "Enter r = 4\n",
            "Enter a = 5\n",
            "Площадь круга больше\n"
          ]
        }
      ]
    },
    {
      "cell_type": "markdown",
      "source": [
        "5) Дано целое число k (1 k 365). Определить, каким днем недели (понедельником, вторником, ..., субботой или воскресеньем) является k-й день невисокосного года, в котором 1 января:\n",
        "а) понедельник;\n",
        "б)d-й день недели (если 1 января — понедельник, то d =1 , если вторник — d= 2 , ..., если воскресенье — d =7)."
      ],
      "metadata": {
        "id": "VmHb0LZ2wIfu"
      }
    },
    {
      "cell_type": "code",
      "source": [
        "#a\n",
        "k = int(input('Enter k = '))\n",
        "if k % 7 == 0:\n",
        "  print('Воскресенье')\n",
        "elif k % 7 == 1:\n",
        "  print('Понедельник')\n",
        "elif k % 7 == 2:\n",
        "  print('Вторник')\n",
        "elif k % 7 == 3:\n",
        "  print('Среда')\n",
        "elif k % 7 == 4:\n",
        "  print('Четверг')\n",
        "elif k % 7 == 5:\n",
        "  print('Пятница')\n",
        "else:\n",
        "  print('Суббота')\n"
      ],
      "metadata": {
        "colab": {
          "base_uri": "https://localhost:8080/"
        },
        "id": "F1G4VJO0xpYn",
        "outputId": "b13bf43e-8115-4d0b-f55d-1b0324570eba"
      },
      "execution_count": null,
      "outputs": [
        {
          "output_type": "stream",
          "name": "stdout",
          "text": [
            "Enter k = 13\n",
            "Суббота\n"
          ]
        }
      ]
    },
    {
      "cell_type": "code",
      "source": [
        "#b\n",
        "k = int(input('Enter k = '))\n",
        "d = int(input('Enter d = '))\n",
        "k = k + d - 1\n",
        "if k % 7 == 0:\n",
        "  print('Воскресенье')\n",
        "elif k % 7 == 1:\n",
        "  print('Понедельник')\n",
        "elif k % 7 == 2:\n",
        "  print('Вторник')\n",
        "elif k % 7 == 3:\n",
        "  print('Среда')\n",
        "elif k % 7 == 4:\n",
        "  print('Четверг')\n",
        "elif k % 7 == 5:\n",
        "  print('Пятница')\n",
        "else:\n",
        "  print('Суббота')"
      ],
      "metadata": {
        "colab": {
          "base_uri": "https://localhost:8080/"
        },
        "id": "YU3r_invwOTl",
        "outputId": "ef282f05-28ce-4c89-fe88-de45c77a3551"
      },
      "execution_count": null,
      "outputs": [
        {
          "output_type": "stream",
          "name": "stdout",
          "text": [
            "Enter k = 6\n",
            "Enter d = 4\n",
            "Вторник\n"
          ]
        }
      ]
    },
    {
      "cell_type": "markdown",
      "source": [
        "Циклы"
      ],
      "metadata": {
        "id": "0HBYGwKcaxlk"
      }
    },
    {
      "cell_type": "markdown",
      "source": [
        "1) У гусей и кроликов вместе 64 лапы. Сколько могло быть кроликов и гусей (указать все сочетания, которые возможны)?"
      ],
      "metadata": {
        "id": "FqnDqGUsa43i"
      }
    },
    {
      "cell_type": "code",
      "source": [
        "for i in range(0, 17):\n",
        "  k = i\n",
        "  g = (64 - 4*i)//2\n",
        "  print(f'Кроликов = {k}  Гусей = {g}')"
      ],
      "metadata": {
        "colab": {
          "base_uri": "https://localhost:8080/"
        },
        "id": "_0xkBidIa5v3",
        "outputId": "630809a0-6ae0-43e9-f2ad-bea91a36e4d0"
      },
      "execution_count": null,
      "outputs": [
        {
          "output_type": "stream",
          "name": "stdout",
          "text": [
            "Кроликов = 0  Гусей = 32\n",
            "Кроликов = 1  Гусей = 30\n",
            "Кроликов = 2  Гусей = 28\n",
            "Кроликов = 3  Гусей = 26\n",
            "Кроликов = 4  Гусей = 24\n",
            "Кроликов = 5  Гусей = 22\n",
            "Кроликов = 6  Гусей = 20\n",
            "Кроликов = 7  Гусей = 18\n",
            "Кроликов = 8  Гусей = 16\n",
            "Кроликов = 9  Гусей = 14\n",
            "Кроликов = 10  Гусей = 12\n",
            "Кроликов = 11  Гусей = 10\n",
            "Кроликов = 12  Гусей = 8\n",
            "Кроликов = 13  Гусей = 6\n",
            "Кроликов = 14  Гусей = 4\n",
            "Кроликов = 15  Гусей = 2\n",
            "Кроликов = 16  Гусей = 0\n"
          ]
        }
      ]
    },
    {
      "cell_type": "markdown",
      "source": [
        "![image.png](data:image/png;base64,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)"
      ],
      "metadata": {
        "id": "npCyX1ivcWCQ"
      }
    },
    {
      "cell_type": "code",
      "source": [
        "from math import factorial\n",
        "x = float(input())\n",
        "res = x\n",
        "n = -1\n",
        "for i in range(3, 14, 2):\n",
        "  res += n*(x**i/factorial(i))\n",
        "  n = -1*n\n",
        "print(res)"
      ],
      "metadata": {
        "colab": {
          "base_uri": "https://localhost:8080/"
        },
        "id": "XYgUJ-7Kcr38",
        "outputId": "582e17ee-dc4a-4418-ff2a-238b5a10ccfe"
      },
      "execution_count": null,
      "outputs": [
        {
          "output_type": "stream",
          "name": "stdout",
          "text": [
            "3\n",
            "0.14113062718531458\n"
          ]
        }
      ]
    },
    {
      "cell_type": "markdown",
      "source": [
        "![image.png](data:image/png;base64,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)"
      ],
      "metadata": {
        "id": "3_SrB6gweAN3"
      }
    },
    {
      "cell_type": "code",
      "source": [
        "from math import factorial\n",
        "eps = 10**-3\n",
        "res = 0\n",
        "n = 0\n",
        "a_n = 1\n",
        "while a_n > eps:\n",
        "    res += a_n\n",
        "    n += 1\n",
        "    a_n = 10**n / factorial(n)\n",
        "\n",
        "print('Сумма = ', res)\n"
      ],
      "metadata": {
        "colab": {
          "base_uri": "https://localhost:8080/"
        },
        "id": "oApwEtLSeH9e",
        "outputId": "4dddba44-6cc4-4ffc-8e3a-7d2212e9f2b0"
      },
      "execution_count": null,
      "outputs": [
        {
          "output_type": "stream",
          "name": "stdout",
          "text": [
            "Сумма =  22026.465252383958\n"
          ]
        }
      ]
    },
    {
      "cell_type": "markdown",
      "source": [
        "4) Дано целое число N и набор из N положительных вещественных чисел. Вывести в том же порядке дробные части всех чисел из данного набора (как вещественные числа с нулевой целой частью), а также произведение всех дробных частей."
      ],
      "metadata": {
        "id": "W0iEbGPIfsct"
      }
    },
    {
      "cell_type": "code",
      "source": [
        "n = int(input('Enter n = '))\n",
        "res = 1\n",
        "x = 0\n",
        "for i in range(0, n):\n",
        "  x = float(input())\n",
        "  print(x - x//1)\n",
        "  res = res * (x - x//1)\n",
        "print(res)"
      ],
      "metadata": {
        "id": "12DD_qy1fyOt",
        "colab": {
          "base_uri": "https://localhost:8080/"
        },
        "outputId": "704b6612-df37-4c8b-f758-6f2ac149b439"
      },
      "execution_count": 3,
      "outputs": [
        {
          "output_type": "stream",
          "name": "stdout",
          "text": [
            "Enter n = 3\n",
            "3.14\n",
            "0.14000000000000012\n",
            "9.07\n",
            "0.07000000000000028\n",
            "6.56\n",
            "0.5599999999999996\n",
            "0.005488000000000023\n"
          ]
        }
      ]
    },
    {
      "cell_type": "markdown",
      "source": [
        "Функции"
      ],
      "metadata": {
        "id": "U-PeVxAoYAFh"
      }
    },
    {
      "cell_type": "markdown",
      "source": [
        "1. Даны три квадратных матрицы A, B, С n-го порядка. Вывести на печать ту из них, норма которой наименьшая.\n",
        "\n",
        "Пояснение. Нормой матрицы считать максимум из абсолютных величин ее элементов."
      ],
      "metadata": {
        "id": "PAGGMIv-aXvu"
      }
    },
    {
      "cell_type": "code",
      "source": [
        "import numpy as np\n",
        "\n",
        "def norm(arr):\n",
        "    return np.max(np.abs(arr))\n",
        "A = np.array([[1, -4, 6], [-2, 3, 7], [5, -1, 9]])\n",
        "B = np.array([[12, -10, -12], [-14, 11, -10], [13, 17, 19]])\n",
        "C = np.array([[6, -9, 12], [10, 8, -7], [-7, 4, 11]])\n",
        "\n",
        "norm_A = norm(A)\n",
        "norm_B = norm(B)\n",
        "norm_C = norm(C)\n",
        "min_norm = min(norm_A, norm_B, norm_C)\n",
        "\n",
        "if min_norm == norm_A:\n",
        "    print(A)\n",
        "elif min_norm == norm_B:\n",
        "    print(B)\n",
        "else:\n",
        "    print(C)\n"
      ],
      "metadata": {
        "colab": {
          "base_uri": "https://localhost:8080/"
        },
        "id": "KHumaaV_aay0",
        "outputId": "977135e5-958e-483e-8f4a-b7154b751b80"
      },
      "execution_count": 4,
      "outputs": [
        {
          "output_type": "stream",
          "name": "stdout",
          "text": [
            "[[ 1 -4  6]\n",
            " [-2  3  7]\n",
            " [ 5 -1  9]]\n"
          ]
        }
      ]
    },
    {
      "cell_type": "markdown",
      "source": [
        "2. Написать функцию нахождения суммы большего и меньшего из 3 чисел."
      ],
      "metadata": {
        "id": "ZUCYaMXKdJku"
      }
    },
    {
      "cell_type": "code",
      "source": [
        "def sum_min_max(x, y, z):\n",
        "    mini = x if (x < y and x < z) else (y if (y < z) else z)\n",
        "    maxi = x if (x > y and x > z) else (y if (y > z) else z)\n",
        "    return mini + maxi\n",
        "\n",
        "a = int(input('Enter a = '))\n",
        "b = int(input('Enter b = '))\n",
        "c = int(input('Enter c = '))\n",
        "\n",
        "res = sum_min_max(a, b, c)\n",
        "print(f'Sum = {res}')\n",
        "\n"
      ],
      "metadata": {
        "colab": {
          "base_uri": "https://localhost:8080/"
        },
        "id": "_hFKj96VdPFs",
        "outputId": "020bfa70-20bd-471b-f1e1-e4bdd49de256"
      },
      "execution_count": 13,
      "outputs": [
        {
          "output_type": "stream",
          "name": "stdout",
          "text": [
            "Enter a = 6\n",
            "Enter b = -5\n",
            "Enter c = 9\n",
            "Sum = 4\n"
          ]
        }
      ]
    },
    {
      "cell_type": "markdown",
      "source": [
        "3. Описать функцию min(x) для определения минимального элемента линейного массива х, введя вспомогательную рекурсивную функцию min1(k), находящую минимум среди последних элементов массива х, начиная с k-го."
      ],
      "metadata": {
        "id": "cNunTQ1EhPJ7"
      }
    },
    {
      "cell_type": "code",
      "source": [
        "def min1(x, k):\n",
        "    if k == len(x) - 1:\n",
        "        return x[k]\n",
        "    current_min = min1(x, k + 1)\n",
        "    return x[k] if x[k] < current_min else current_min\n",
        "\n",
        "def min(x):\n",
        "    return min1(x, 0)\n",
        "arr = []\n",
        "n = int(input('Введите размер массива: '))\n",
        "for i in range(0, n):\n",
        "  x = int(input())\n",
        "  arr.append(x)\n",
        "res = min(arr)\n",
        "print(f'Минимальный элемент массива: {res}')\n"
      ],
      "metadata": {
        "colab": {
          "base_uri": "https://localhost:8080/"
        },
        "id": "zRXh6yeKhWU2",
        "outputId": "7cc80057-bad1-4e44-ef1a-8e3fa4c8a4aa"
      },
      "execution_count": 17,
      "outputs": [
        {
          "output_type": "stream",
          "name": "stdout",
          "text": [
            "Введите размер массива: 7\n",
            "4\n",
            "-5\n",
            "2\n",
            "8\n",
            "-7\n",
            "3\n",
            "1\n",
            "Минимальный элемент массива: -7\n"
          ]
        }
      ]
    }
  ]
}